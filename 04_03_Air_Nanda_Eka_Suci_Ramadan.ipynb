{
  "nbformat": 4,
  "nbformat_minor": 0,
  "metadata": {
    "colab": {
      "provenance": [],
      "toc_visible": true,
      "authorship_tag": "ABX9TyOquuZRuKkIH18Lp8ZDb5Yg",
      "include_colab_link": true
    },
    "kernelspec": {
      "name": "python3",
      "display_name": "Python 3"
    },
    "language_info": {
      "name": "python"
    }
  },
  "cells": [
    {
      "cell_type": "markdown",
      "metadata": {
        "id": "view-in-github",
        "colab_type": "text"
      },
      "source": [
        "<a href=\"https://colab.research.google.com/github/nandaeka02/Machine-Learning-and-Deep-Learning_Startup-Campus/blob/main/04_03_Air_Nanda_Eka_Suci_Ramadan.ipynb\" target=\"_parent\"><img src=\"https://colab.research.google.com/assets/colab-badge.svg\" alt=\"Open In Colab\"/></a>"
      ]
    },
    {
      "cell_type": "markdown",
      "source": [
        "# Load MNIST dataset for the data loader"
      ],
      "metadata": {
        "id": "GZDUpm6-NEUM"
      }
    },
    {
      "cell_type": "code",
      "source": [
        "import torch\n",
        "import torch.nn as nn\n",
        "import torch.optim as optim\n",
        "import torchvision.datasets as datasets\n",
        "import torchvision.transforms as transforms\n",
        "from torch.utils.data import DataLoader\n",
        "from sklearn.metrics import accuracy_score, confusion_matrix, classification_report\n",
        "import numpy as np\n",
        "import matplotlib.pyplot as plt"
      ],
      "metadata": {
        "id": "2YkY9arngPFr"
      },
      "execution_count": null,
      "outputs": []
    },
    {
      "cell_type": "code",
      "source": [
        "# Transformasi data (normalisasi dan konversi ke tensor)\n",
        "transform = transforms.Compose([transforms.ToTensor(), transforms.Normalize((0.5,), (0.5,))])\n",
        "\n",
        "# Muat dataset MNIST\n",
        "mnist_trainset = datasets.MNIST(root='./data', train=True, download=True, transform=transform)\n",
        "mnist_testset = datasets.MNIST(root='./data', train=False, download=True, transform=transform)\n",
        "\n",
        "# Set batch size\n",
        "batch_size = 64\n",
        "\n",
        "# Buat data loader untuk pelatihan dan pengujian\n",
        "train_loader = DataLoader(mnist_trainset, batch_size=batch_size, shuffle=True)\n",
        "test_loader = DataLoader(mnist_testset, batch_size=batch_size, shuffle=False)"
      ],
      "metadata": {
        "colab": {
          "base_uri": "https://localhost:8080/"
        },
        "id": "tXS78R4RghEb",
        "outputId": "18c47c2c-1a41-4072-ea55-3504e1b10c68"
      },
      "execution_count": null,
      "outputs": [
        {
          "output_type": "stream",
          "name": "stdout",
          "text": [
            "Downloading http://yann.lecun.com/exdb/mnist/train-images-idx3-ubyte.gz\n",
            "Downloading http://yann.lecun.com/exdb/mnist/train-images-idx3-ubyte.gz to ./data/MNIST/raw/train-images-idx3-ubyte.gz\n"
          ]
        },
        {
          "output_type": "stream",
          "name": "stderr",
          "text": [
            "100%|██████████| 9912422/9912422 [00:00<00:00, 115793975.88it/s]\n"
          ]
        },
        {
          "output_type": "stream",
          "name": "stdout",
          "text": [
            "Extracting ./data/MNIST/raw/train-images-idx3-ubyte.gz to ./data/MNIST/raw\n",
            "\n",
            "Downloading http://yann.lecun.com/exdb/mnist/train-labels-idx1-ubyte.gz\n",
            "Downloading http://yann.lecun.com/exdb/mnist/train-labels-idx1-ubyte.gz to ./data/MNIST/raw/train-labels-idx1-ubyte.gz\n"
          ]
        },
        {
          "output_type": "stream",
          "name": "stderr",
          "text": [
            "100%|██████████| 28881/28881 [00:00<00:00, 5146607.21it/s]\n"
          ]
        },
        {
          "output_type": "stream",
          "name": "stdout",
          "text": [
            "Extracting ./data/MNIST/raw/train-labels-idx1-ubyte.gz to ./data/MNIST/raw\n",
            "\n",
            "Downloading http://yann.lecun.com/exdb/mnist/t10k-images-idx3-ubyte.gz\n",
            "Downloading http://yann.lecun.com/exdb/mnist/t10k-images-idx3-ubyte.gz to ./data/MNIST/raw/t10k-images-idx3-ubyte.gz\n"
          ]
        },
        {
          "output_type": "stream",
          "name": "stderr",
          "text": [
            "100%|██████████| 1648877/1648877 [00:00<00:00, 42500484.85it/s]\n"
          ]
        },
        {
          "output_type": "stream",
          "name": "stdout",
          "text": [
            "Extracting ./data/MNIST/raw/t10k-images-idx3-ubyte.gz to ./data/MNIST/raw\n",
            "\n",
            "Downloading http://yann.lecun.com/exdb/mnist/t10k-labels-idx1-ubyte.gz\n",
            "Downloading http://yann.lecun.com/exdb/mnist/t10k-labels-idx1-ubyte.gz to ./data/MNIST/raw/t10k-labels-idx1-ubyte.gz\n"
          ]
        },
        {
          "output_type": "stream",
          "name": "stderr",
          "text": [
            "100%|██████████| 4542/4542 [00:00<00:00, 10678547.52it/s]"
          ]
        },
        {
          "output_type": "stream",
          "name": "stdout",
          "text": [
            "Extracting ./data/MNIST/raw/t10k-labels-idx1-ubyte.gz to ./data/MNIST/raw\n",
            "\n"
          ]
        },
        {
          "output_type": "stream",
          "name": "stderr",
          "text": [
            "\n"
          ]
        }
      ]
    },
    {
      "cell_type": "markdown",
      "source": [
        "# Visualize several MNIST datasets"
      ],
      "metadata": {
        "id": "xptw0AWDNKuK"
      }
    },
    {
      "cell_type": "code",
      "source": [
        "# Fungsi untuk menampilkan gambar MNIST\n",
        "def show_images(images, labels, ncols=8):\n",
        "    nrows = len(images) // ncols\n",
        "    fig, axes = plt.subplots(nrows=nrows, ncols=ncols, figsize=(12, 3 * nrows))\n",
        "    for i, (image, label) in enumerate(zip(images, labels)):\n",
        "        ax = axes[i // ncols, i % ncols]\n",
        "        ax.imshow(image[0], cmap='gray')\n",
        "        ax.set_title(f\"Label: {label}\")\n",
        "        ax.axis('off')\n",
        "\n",
        "# Ambil beberapa gambar untuk divisualisasikan\n",
        "sample_images, sample_labels = next(iter(train_loader))\n",
        "show_images(sample_images[:16], sample_labels[:16])"
      ],
      "metadata": {
        "colab": {
          "base_uri": "https://localhost:8080/",
          "height": 410
        },
        "id": "n1sIjdUegvBc",
        "outputId": "ad952ad7-ba67-4262-e453-2db07d76a801"
      },
      "execution_count": null,
      "outputs": [
        {
          "output_type": "display_data",
          "data": {
            "text/plain": [
              "<Figure size 1200x600 with 16 Axes>"
            ],
            "image/png": "[encoded data removed]"
          },
          "metadata": {}
        }
      ]
    },
    {
      "cell_type": "markdown",
      "source": [
        "# Design your Neural Network model"
      ],
      "metadata": {
        "id": "NPNjo9Y6Ysyn"
      }
    },
    {
      "cell_type": "code",
      "source": [
        "# Definisi model Neural Network\n",
        "class NeuralNetwork(nn.Module):\n",
        "    def __init__(self, input_size, hidden_size, num_classes):\n",
        "        super(NeuralNetwork, self).__init__()\n",
        "        self.fc1 = nn.Linear(input_size, hidden_size)\n",
        "        self.relu = nn.ReLU()\n",
        "        self.fc2 = nn.Linear(hidden_size, num_classes)\n",
        "\n",
        "    def forward(self, x):\n",
        "        out = self.fc1(x)\n",
        "        out = self.relu(out)\n",
        "        out = self.fc2(out)\n",
        "        return out\n",
        "\n",
        "# Hyperparameter\n",
        "input_size = 28 * 28  # Ukuran input (jumlah fitur)\n",
        "hidden_size = 128    # Jumlah unit di lapisan tersembunyi\n",
        "num_classes = 10     # Jumlah kelas (0-9)\n",
        "\n",
        "# Inisialisasi model\n",
        "model = NeuralNetwork(input_size, hidden_size, num_classes)"
      ],
      "metadata": {
        "id": "KpCFH1A9gyOh"
      },
      "execution_count": null,
      "outputs": []
    },
    {
      "cell_type": "markdown",
      "source": [
        "# Setup your hyperparameter such as Loss Function, Optimizer, Learning Rate, etc"
      ],
      "metadata": {
        "id": "ECD4k2IeYzAG"
      }
    },
    {
      "cell_type": "code",
      "source": [
        "# Hyperparameter\n",
        "learning_rate = 0.001\n",
        "num_epochs = 10\n",
        "\n",
        "# Loss function dan optimizer\n",
        "criterion = nn.CrossEntropyLoss()\n",
        "optimizer = optim.Adam(model.parameters(), lr=learning_rate)\n"
      ],
      "metadata": {
        "id": "RXImYAuig1qQ"
      },
      "execution_count": null,
      "outputs": []
    },
    {
      "cell_type": "markdown",
      "source": [
        "# Develop a training loop and run a training model"
      ],
      "metadata": {
        "id": "D30fXxqAY3Kh"
      }
    },
    {
      "cell_type": "code",
      "source": [
        "# Training loop\n",
        "for epoch in range(num_epochs):\n",
        "    model.train()\n",
        "    for images, labels in train_loader:\n",
        "        images = images.view(-1, input_size)  # Flatten gambar\n",
        "        optimizer.zero_grad()\n",
        "        outputs = model(images)\n",
        "        loss = criterion(outputs, labels)\n",
        "        loss.backward()\n",
        "        optimizer.step()"
      ],
      "metadata": {
        "id": "j8S8lomOmIy-"
      },
      "execution_count": null,
      "outputs": []
    },
    {
      "cell_type": "markdown",
      "source": [
        "# Evaluate the Model"
      ],
      "metadata": {
        "id": "nmNrwYvBY6Bo"
      }
    },
    {
      "cell_type": "code",
      "source": [
        "# Evaluasi model pada data uji\n",
        "model.eval()\n",
        "all_predictions = []\n",
        "all_labels = []\n",
        "with torch.no_grad():\n",
        "    for images, labels in test_loader:\n",
        "        images = images.view(-1, input_size)\n",
        "        outputs = model(images)\n",
        "        _, predictions = torch.max(outputs, 1)\n",
        "        all_predictions.extend(predictions.numpy())\n",
        "        all_labels.extend(labels.numpy())\n",
        "\n",
        "# Menghitung metrik evaluasi\n",
        "accuracy = accuracy_score(all_labels, all_predictions)\n",
        "conf_matrix = confusion_matrix(all_labels, all_predictions)\n",
        "classification_rep = classification_report(all_labels, all_predictions)\n",
        "\n",
        "# Menampilkan hasil evaluasi\n",
        "print(f'Accuracy: {accuracy:.3f}')\n",
        "print('Confusion Matrix:')\n",
        "print(conf_matrix)\n",
        "print('Classification Report:')\n",
        "print(classification_rep)"
      ],
      "metadata": {
        "colab": {
          "base_uri": "https://localhost:8080/"
        },
        "id": "4edrfHW3g4lA",
        "outputId": "6513c438-f986-4870-fa62-2788da2459b6"
      },
      "execution_count": null,
      "outputs": [
        {
          "output_type": "stream",
          "name": "stdout",
          "text": [
            "Accuracy: 0.975\n",
            "Confusion Matrix:\n",
            "[[ 962    0    7    1    1    1    2    1    3    2]\n",
            " [   0 1125    4    2    0    1    1    1    1    0]\n",
            " [   3    1 1012    1    1    0    0    8    6    0]\n",
            " [   0    0    9  984    0    0    0    5    4    8]\n",
            " [   0    0    6    0  949    0   10    6    0   11]\n",
            " [   2    1    0   20    0  846    7    2   10    4]\n",
            " [   4    3    5    0    3    6  933    1    2    1]\n",
            " [   0    4    9    3    0    0    0  999    1   12]\n",
            " [   0    0    4    4    4    0    4    2  952    4]\n",
            " [   1    2    0    5   10    2    2    3    1  983]]\n",
            "Classification Report:\n",
            "              precision    recall  f1-score   support\n",
            "\n",
            "           0       0.99      0.98      0.99       980\n",
            "           1       0.99      0.99      0.99      1135\n",
            "           2       0.96      0.98      0.97      1032\n",
            "           3       0.96      0.97      0.97      1010\n",
            "           4       0.98      0.97      0.97       982\n",
            "           5       0.99      0.95      0.97       892\n",
            "           6       0.97      0.97      0.97       958\n",
            "           7       0.97      0.97      0.97      1028\n",
            "           8       0.97      0.98      0.97       974\n",
            "           9       0.96      0.97      0.97      1009\n",
            "\n",
            "    accuracy                           0.97     10000\n",
            "   macro avg       0.97      0.97      0.97     10000\n",
            "weighted avg       0.97      0.97      0.97     10000\n",
            "\n"
          ]
        }
      ]
    },
    {
      "cell_type": "markdown",
      "source": [
        "# Describe and explain"
      ],
      "metadata": {
        "id": "Synm7CpAY_y2"
      }
    },
    {
      "cell_type": "markdown",
      "source": [
        "\n",
        "\n",
        "*   **Accuracy**: Dalam eksperimen ini, kita mengukur seberapa baik model kita dalam mengenali angka tulisan tangan di dataset MNIST. Hasilnya adalah sekitar 0.975, yang berarti model kita benar-benar mengenali angka sekitar 97.5% dari waktu.\n",
        "*   **Confusion Matrix**: Ini adalah tabel yang menunjukkan seberapa baik model kita dalam mengklasifikasikan masing-masing digit. Pada diagonal utama matriks, kita melihat berapa banyak digit yang diklasifikasikan dengan benar. Di luar diagonal utama, kita melihat berapa banyak digit yang salah diklasifikasikan.\n",
        "*   **Classification Report**: Ini memberikan informasi lebih rinci tentang kinerja model kita untuk setiap kelas digit. Ini mencakup metrik seperti Precision, Recall, dan F1 Score.\n",
        "```\n",
        "Accuracy: 0.975\n",
        "Confusion Matrix:\n",
        "[[ 962    0    7    1    1    1    2    1    3    2]\n",
        " [   0 1125    4    2    0    1    1    1    1    0]\n",
        " [   3    1 1012    1    1    0    0    8    6    0]\n",
        " [   0    0    9  984    0    0    0    5    4    8]\n",
        " [   0    0    6    0  949    0   10    6    0   11]\n",
        " [   2    1    0   20    0  846    7    2   10    4]\n",
        " [   4    3    5    0    3    6  933    1    2    1]\n",
        " [   0    4    9    3    0    0    0  999    1   12]\n",
        " [   0    0    4    4    4    0    4    2  952    4]\n",
        " [   1    2    0    5   10    2    2    3    1  983]]\n",
        "Classification Report:\n",
        "              precision    recall  f1-score   support\n",
        "\n",
        "           0       0.99      0.98      0.99       980\n",
        "           1       0.99      0.99      0.99      1135\n",
        "           2       0.96      0.98      0.97      1032\n",
        "           3       0.96      0.97      0.97      1010\n",
        "           4       0.98      0.97      0.97       982\n",
        "           5       0.99      0.95      0.97       892\n",
        "           6       0.97      0.97      0.97       958\n",
        "           7       0.97      0.97      0.97      1028\n",
        "           8       0.97      0.98      0.97       974\n",
        "           9       0.96      0.97      0.97      1009\n",
        "\n",
        "    accuracy                           0.97     10000\n",
        "   macro avg       0.97      0.97      0.97     10000\n",
        "weighted avg       0.97      0.97      0.97     10000\n",
        "```\n",
        "\n",
        "Secara umum, hasilnya menunjukkan bahwa model kita cukup baik dalam mengenali digit tulisan tangan dalam dataset MNIST. Namun, kita juga bisa melihat dari matriks kebingungannya bahwa ada beberapa angka yang kadang-kadang salah diklasifikasikan, dan laporan klasifikasinya memberikan wawasan lebih lanjut tentang kinerja model kita pada setiap angka."
      ],
      "metadata": {
        "id": "UMNIxW7Bm3Lj"
      }
    }
  ]
}