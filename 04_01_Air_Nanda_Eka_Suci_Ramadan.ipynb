{
  "cells": [
    {
      "cell_type": "markdown",
      "metadata": {
        "id": "view-in-github",
        "colab_type": "text"
      },
      "source": [
        "<a href=\"https://colab.research.google.com/github/nandaeka02/Machine-Learning-and-Deep-Learning_Startup-Campus/blob/main/04_01_Air_Nanda_Eka_Suci_Ramadan.ipynb\" target=\"_parent\"><img src=\"https://colab.research.google.com/assets/colab-badge.svg\" alt=\"Open In Colab\"/></a>"
      ]
    },
    {
      "cell_type": "markdown",
      "metadata": {
        "id": "Mrq5s9WWYcAV"
      },
      "source": [
        "# Preparation"
      ]
    },
    {
      "cell_type": "markdown",
      "metadata": {
        "id": "QOGAR9QHYcAZ"
      },
      "source": [
        "Preparation biasa dilakukan untuk mempersiapkan data sebelum masuk dalam tahap pemodelan. <br>\n",
        "Berikut adalah tahapan yang akan dilalui pada data `SC_HW1_bank_data.csv` sebelum tahap pemodelan :\n",
        "1. Import Library\n",
        "2. Input Dataset\n",
        "3. Preprocessing\n",
        "4. Train-Test Split"
      ]
    },
    {
      "cell_type": "markdown",
      "metadata": {
        "id": "RUIg363RYcAZ"
      },
      "source": [
        "## Import Library"
      ]
    },
    {
      "cell_type": "code",
      "execution_count": null,
      "metadata": {
        "id": "CWrO8BImYcAa"
      },
      "outputs": [],
      "source": [
        "import pandas as pd\n",
        "import numpy as np"
      ]
    },
    {
      "cell_type": "markdown",
      "metadata": {
        "id": "p_wYppbCYcAb"
      },
      "source": [
        "## Input Dataset"
      ]
    },
    {
      "cell_type": "code",
      "execution_count": null,
      "metadata": {
        "id": "bU29IupsYcAb"
      },
      "outputs": [],
      "source": [
        "#Membaca data dan memasukkannya ke dalam bentuk Pandas Dataframe\n",
        "df = pd.read_csv('https://raw.githubusercontent.com/Rietaros/kampus_merdeka/main/SC_HW1_bank_data.csv')"
      ]
    },
    {
      "cell_type": "code",
      "execution_count": null,
      "metadata": {
        "id": "V7swrXGTYcAc",
        "colab": {
          "base_uri": "https://localhost:8080/"
        },
        "outputId": "919f3f37-0635-485d-b1c1-e9ccc251cb24"
      },
      "outputs": [
        {
          "output_type": "execute_result",
          "data": {
            "text/plain": [
              "Index(['RowNumber', 'CustomerId', 'Geography', 'Gender', 'Age', 'Tenure',\n",
              "       'Balance', 'NumOfProducts', 'HasCrCard', 'IsActiveMember',\n",
              "       'EstimatedSalary', 'Exited'],\n",
              "      dtype='object')"
            ]
          },
          "metadata": {},
          "execution_count": 3
        }
      ],
      "source": [
        "#Jalankan code untuk mengecek nama kolom yang tersedia\n",
        "df.columns"
      ]
    },
    {
      "cell_type": "code",
      "execution_count": null,
      "metadata": {
        "id": "ySBcdpGy4rb3"
      },
      "outputs": [],
      "source": [
        "#Hilangkan kolom yang dirasa tidak relevan dengan model (contoh: ID). None dapat diisi dengan nama-nama kolom yang akan digunakan.\n",
        "#Contoh df = df[['X1','X2', 'Y']].copy()\n",
        "\n",
        "#START CODE\n",
        "df = df[['Geography', 'Gender', 'Age', 'Tenure', 'Balance', 'NumOfProducts', 'HasCrCard', 'IsActiveMember', 'EstimatedSalary', 'Exited']].copy()"
      ]
    },
    {
      "cell_type": "markdown",
      "metadata": {
        "id": "VAUrcQVIYcAe"
      },
      "source": [
        "## Preprocessing"
      ]
    },
    {
      "cell_type": "code",
      "source": [
        "df"
      ],
      "metadata": {
        "colab": {
          "base_uri": "https://localhost:8080/",
          "height": 424
        },
        "id": "ggO1Oy_Yvviq",
        "outputId": "45dcdf79-9f84-4808-e3ce-12cda314b49b"
      },
      "execution_count": null,
      "outputs": [
        {
          "output_type": "execute_result",
          "data": {
            "text/plain": [
              "     Geography  Gender  Age  Tenure    Balance  NumOfProducts  HasCrCard  \\\n",
              "0       France  Female   42       2       0.00              1          1   \n",
              "1        Spain  Female   41       1   83807.86              1          0   \n",
              "2       France  Female   42       8  159660.80              3          1   \n",
              "3       France  Female   39       1       0.00              2          0   \n",
              "4        Spain  Female   43       2  125510.82              1          1   \n",
              "...        ...     ...  ...     ...        ...            ...        ...   \n",
              "9995    France    Male   39       5       0.00              2          1   \n",
              "9996    France    Male   35      10   57369.61              1          1   \n",
              "9997    France  Female   36       7       0.00              1          0   \n",
              "9998   Germany    Male   42       3   75075.31              2          1   \n",
              "9999    France  Female   28       4  130142.79              1          1   \n",
              "\n",
              "      IsActiveMember  EstimatedSalary  Exited  \n",
              "0                  1        101348.88       1  \n",
              "1                  1        112542.58       0  \n",
              "2                  0        113931.57       1  \n",
              "3                  0         93826.63       0  \n",
              "4                  1         79084.10       0  \n",
              "...              ...              ...     ...  \n",
              "9995               0         96270.64       0  \n",
              "9996               1        101699.77       0  \n",
              "9997               1         42085.58       1  \n",
              "9998               0         92888.52       1  \n",
              "9999               0         38190.78       0  \n",
              "\n",
              "[10000 rows x 10 columns]"
            ],
            "text/html": [
              "\n",
              "  <div id=\"df-ce13535c-8adf-4e15-b123-c3c12ef2faee\" class=\"colab-df-container\">\n",
              "    <div>\n",
              "<style scoped>\n",
              "    .dataframe tbody tr th:only-of-type {\n",
              "        vertical-align: middle;\n",
              "    }\n",
              "\n",
              "    .dataframe tbody tr th {\n",
              "        vertical-align: top;\n",
              "    }\n",
              "\n",
              "    .dataframe thead th {\n",
              "        text-align: right;\n",
              "    }\n",
              "</style>\n",
              "<table border=\"1\" class=\"dataframe\">\n",
              "  <thead>\n",
              "    <tr style=\"text-align: right;\">\n",
              "      <th></th>\n",
              "      <th>Geography</th>\n",
              "      <th>Gender</th>\n",
              "      <th>Age</th>\n",
              "      <th>Tenure</th>\n",
              "      <th>Balance</th>\n",
              "      <th>NumOfProducts</th>\n",
              "      <th>HasCrCard</th>\n",
              "      <th>IsActiveMember</th>\n",
              "      <th>EstimatedSalary</th>\n",
              "      <th>Exited</th>\n",
              "    </tr>\n",
              "  </thead>\n",
              "  <tbody>\n",
              "    <tr>\n",
              "      <th>0</th>\n",
              "      <td>France</td>\n",
              "      <td>Female</td>\n",
              "      <td>42</td>\n",
              "      <td>2</td>\n",
              "      <td>0.00</td>\n",
              "      <td>1</td>\n",
              "      <td>1</td>\n",
              "      <td>1</td>\n",
              "      <td>101348.88</td>\n",
              "      <td>1</td>\n",
              "    </tr>\n",
              "    <tr>\n",
              "      <th>1</th>\n",
              "      <td>Spain</td>\n",
              "      <td>Female</td>\n",
              "      <td>41</td>\n",
              "      <td>1</td>\n",
              "      <td>83807.86</td>\n",
              "      <td>1</td>\n",
              "      <td>0</td>\n",
              "      <td>1</td>\n",
              "      <td>112542.58</td>\n",
              "      <td>0</td>\n",
              "    </tr>\n",
              "    <tr>\n",
              "      <th>2</th>\n",
              "      <td>France</td>\n",
              "      <td>Female</td>\n",
              "      <td>42</td>\n",
              "      <td>8</td>\n",
              "      <td>159660.80</td>\n",
              "      <td>3</td>\n",
              "      <td>1</td>\n",
              "      <td>0</td>\n",
              "      <td>113931.57</td>\n",
              "      <td>1</td>\n",
              "    </tr>\n",
              "    <tr>\n",
              "      <th>3</th>\n",
              "      <td>France</td>\n",
              "      <td>Female</td>\n",
              "      <td>39</td>\n",
              "      <td>1</td>\n",
              "      <td>0.00</td>\n",
              "      <td>2</td>\n",
              "      <td>0</td>\n",
              "      <td>0</td>\n",
              "      <td>93826.63</td>\n",
              "      <td>0</td>\n",
              "    </tr>\n",
              "    <tr>\n",
              "      <th>4</th>\n",
              "      <td>Spain</td>\n",
              "      <td>Female</td>\n",
              "      <td>43</td>\n",
              "      <td>2</td>\n",
              "      <td>125510.82</td>\n",
              "      <td>1</td>\n",
              "      <td>1</td>\n",
              "      <td>1</td>\n",
              "      <td>79084.10</td>\n",
              "      <td>0</td>\n",
              "    </tr>\n",
              "    <tr>\n",
              "      <th>...</th>\n",
              "      <td>...</td>\n",
              "      <td>...</td>\n",
              "      <td>...</td>\n",
              "      <td>...</td>\n",
              "      <td>...</td>\n",
              "      <td>...</td>\n",
              "      <td>...</td>\n",
              "      <td>...</td>\n",
              "      <td>...</td>\n",
              "      <td>...</td>\n",
              "    </tr>\n",
              "    <tr>\n",
              "      <th>9995</th>\n",
              "      <td>France</td>\n",
              "      <td>Male</td>\n",
              "      <td>39</td>\n",
              "      <td>5</td>\n",
              "      <td>0.00</td>\n",
              "      <td>2</td>\n",
              "      <td>1</td>\n",
              "      <td>0</td>\n",
              "      <td>96270.64</td>\n",
              "      <td>0</td>\n",
              "    </tr>\n",
              "    <tr>\n",
              "      <th>9996</th>\n",
              "      <td>France</td>\n",
              "      <td>Male</td>\n",
              "      <td>35</td>\n",
              "      <td>10</td>\n",
              "      <td>57369.61</td>\n",
              "      <td>1</td>\n",
              "      <td>1</td>\n",
              "      <td>1</td>\n",
              "      <td>101699.77</td>\n",
              "      <td>0</td>\n",
              "    </tr>\n",
              "    <tr>\n",
              "      <th>9997</th>\n",
              "      <td>France</td>\n",
              "      <td>Female</td>\n",
              "      <td>36</td>\n",
              "      <td>7</td>\n",
              "      <td>0.00</td>\n",
              "      <td>1</td>\n",
              "      <td>0</td>\n",
              "      <td>1</td>\n",
              "      <td>42085.58</td>\n",
              "      <td>1</td>\n",
              "    </tr>\n",
              "    <tr>\n",
              "      <th>9998</th>\n",
              "      <td>Germany</td>\n",
              "      <td>Male</td>\n",
              "      <td>42</td>\n",
              "      <td>3</td>\n",
              "      <td>75075.31</td>\n",
              "      <td>2</td>\n",
              "      <td>1</td>\n",
              "      <td>0</td>\n",
              "      <td>92888.52</td>\n",
              "      <td>1</td>\n",
              "    </tr>\n",
              "    <tr>\n",
              "      <th>9999</th>\n",
              "      <td>France</td>\n",
              "      <td>Female</td>\n",
              "      <td>28</td>\n",
              "      <td>4</td>\n",
              "      <td>130142.79</td>\n",
              "      <td>1</td>\n",
              "      <td>1</td>\n",
              "      <td>0</td>\n",
              "      <td>38190.78</td>\n",
              "      <td>0</td>\n",
              "    </tr>\n",
              "  </tbody>\n",
              "</table>\n",
              "<p>10000 rows × 10 columns</p>\n",
              "</div>\n",
              "    <div class=\"colab-df-buttons\">\n",
              "\n",
              "  <div class=\"colab-df-container\">\n",
              "    <button class=\"colab-df-convert\" onclick=\"convertToInteractive('df-ce13535c-8adf-4e15-b123-c3c12ef2faee')\"\n",
              "            title=\"Convert this dataframe to an interactive table.\"\n",
              "            style=\"display:none;\">\n",
              "\n",
              "  <svg xmlns=\"http://www.w3.org/2000/svg\" height=\"24px\" viewBox=\"0 -960 960 960\">\n",
              "    <path d=\"M120-120v-720h720v720H120Zm60-500h600v-160H180v160Zm220 220h160v-160H400v160Zm0 220h160v-160H400v160ZM180-400h160v-160H180v160Zm440 0h160v-160H620v160ZM180-180h160v-160H180v160Zm440 0h160v-160H620v160Z\"/>\n",
              "  </svg>\n",
              "    </button>\n",
              "\n",
              "  <style>\n",
              "    .colab-df-container {\n",
              "      display:flex;\n",
              "      gap: 12px;\n",
              "    }\n",
              "\n",
              "    .colab-df-convert {\n",
              "      background-color: #E8F0FE;\n",
              "      border: none;\n",
              "      border-radius: 50%;\n",
              "      cursor: pointer;\n",
              "      display: none;\n",
              "      fill: #1967D2;\n",
              "      height: 32px;\n",
              "      padding: 0 0 0 0;\n",
              "      width: 32px;\n",
              "    }\n",
              "\n",
              "    .colab-df-convert:hover {\n",
              "      background-color: #E2EBFA;\n",
              "      box-shadow: 0px 1px 2px rgba(60, 64, 67, 0.3), 0px 1px 3px 1px rgba(60, 64, 67, 0.15);\n",
              "      fill: #174EA6;\n",
              "    }\n",
              "\n",
              "    .colab-df-buttons div {\n",
              "      margin-bottom: 4px;\n",
              "    }\n",
              "\n",
              "    [theme=dark] .colab-df-convert {\n",
              "      background-color: #3B4455;\n",
              "      fill: #D2E3FC;\n",
              "    }\n",
              "\n",
              "    [theme=dark] .colab-df-convert:hover {\n",
              "      background-color: #434B5C;\n",
              "      box-shadow: 0px 1px 3px 1px rgba(0, 0, 0, 0.15);\n",
              "      filter: drop-shadow(0px 1px 2px rgba(0, 0, 0, 0.3));\n",
              "      fill: #FFFFFF;\n",
              "    }\n",
              "  </style>\n",
              "\n",
              "    <script>\n",
              "      const buttonEl =\n",
              "        document.querySelector('#df-ce13535c-8adf-4e15-b123-c3c12ef2faee button.colab-df-convert');\n",
              "      buttonEl.style.display =\n",
              "        google.colab.kernel.accessAllowed ? 'block' : 'none';\n",
              "\n",
              "      async function convertToInteractive(key) {\n",
              "        const element = document.querySelector('#df-ce13535c-8adf-4e15-b123-c3c12ef2faee');\n",
              "        const dataTable =\n",
              "          await google.colab.kernel.invokeFunction('convertToInteractive',\n",
              "                                                    [key], {});\n",
              "        if (!dataTable) return;\n",
              "\n",
              "        const docLinkHtml = 'Like what you see? Visit the ' +\n",
              "          '<a target=\"_blank\" href=https://colab.research.google.com/notebooks/data_table.ipynb>data table notebook</a>'\n",
              "          + ' to learn more about interactive tables.';\n",
              "        element.innerHTML = '';\n",
              "        dataTable['output_type'] = 'display_data';\n",
              "        await google.colab.output.renderOutput(dataTable, element);\n",
              "        const docLink = document.createElement('div');\n",
              "        docLink.innerHTML = docLinkHtml;\n",
              "        element.appendChild(docLink);\n",
              "      }\n",
              "    </script>\n",
              "  </div>\n",
              "\n",
              "\n",
              "<div id=\"df-545f21df-7651-4997-b682-00c9d6b69fd1\">\n",
              "  <button class=\"colab-df-quickchart\" onclick=\"quickchart('df-545f21df-7651-4997-b682-00c9d6b69fd1')\"\n",
              "            title=\"Suggest charts.\"\n",
              "            style=\"display:none;\">\n",
              "\n",
              "<svg xmlns=\"http://www.w3.org/2000/svg\" height=\"24px\"viewBox=\"0 0 24 24\"\n",
              "     width=\"24px\">\n",
              "    <g>\n",
              "        <path d=\"M19 3H5c-1.1 0-2 .9-2 2v14c0 1.1.9 2 2 2h14c1.1 0 2-.9 2-2V5c0-1.1-.9-2-2-2zM9 17H7v-7h2v7zm4 0h-2V7h2v10zm4 0h-2v-4h2v4z\"/>\n",
              "    </g>\n",
              "</svg>\n",
              "  </button>\n",
              "\n",
              "<style>\n",
              "  .colab-df-quickchart {\n",
              "      --bg-color: #E8F0FE;\n",
              "      --fill-color: #1967D2;\n",
              "      --hover-bg-color: #E2EBFA;\n",
              "      --hover-fill-color: #174EA6;\n",
              "      --disabled-fill-color: #AAA;\n",
              "      --disabled-bg-color: #DDD;\n",
              "  }\n",
              "\n",
              "  [theme=dark] .colab-df-quickchart {\n",
              "      --bg-color: #3B4455;\n",
              "      --fill-color: #D2E3FC;\n",
              "      --hover-bg-color: #434B5C;\n",
              "      --hover-fill-color: #FFFFFF;\n",
              "      --disabled-bg-color: #3B4455;\n",
              "      --disabled-fill-color: #666;\n",
              "  }\n",
              "\n",
              "  .colab-df-quickchart {\n",
              "    background-color: var(--bg-color);\n",
              "    border: none;\n",
              "    border-radius: 50%;\n",
              "    cursor: pointer;\n",
              "    display: none;\n",
              "    fill: var(--fill-color);\n",
              "    height: 32px;\n",
              "    padding: 0;\n",
              "    width: 32px;\n",
              "  }\n",
              "\n",
              "  .colab-df-quickchart:hover {\n",
              "    background-color: var(--hover-bg-color);\n",
              "    box-shadow: 0 1px 2px rgba(60, 64, 67, 0.3), 0 1px 3px 1px rgba(60, 64, 67, 0.15);\n",
              "    fill: var(--button-hover-fill-color);\n",
              "  }\n",
              "\n",
              "  .colab-df-quickchart-complete:disabled,\n",
              "  .colab-df-quickchart-complete:disabled:hover {\n",
              "    background-color: var(--disabled-bg-color);\n",
              "    fill: var(--disabled-fill-color);\n",
              "    box-shadow: none;\n",
              "  }\n",
              "\n",
              "  .colab-df-spinner {\n",
              "    border: 2px solid var(--fill-color);\n",
              "    border-color: transparent;\n",
              "    border-bottom-color: var(--fill-color);\n",
              "    animation:\n",
              "      spin 1s steps(1) infinite;\n",
              "  }\n",
              "\n",
              "  @keyframes spin {\n",
              "    0% {\n",
              "      border-color: transparent;\n",
              "      border-bottom-color: var(--fill-color);\n",
              "      border-left-color: var(--fill-color);\n",
              "    }\n",
              "    20% {\n",
              "      border-color: transparent;\n",
              "      border-left-color: var(--fill-color);\n",
              "      border-top-color: var(--fill-color);\n",
              "    }\n",
              "    30% {\n",
              "      border-color: transparent;\n",
              "      border-left-color: var(--fill-color);\n",
              "      border-top-color: var(--fill-color);\n",
              "      border-right-color: var(--fill-color);\n",
              "    }\n",
              "    40% {\n",
              "      border-color: transparent;\n",
              "      border-right-color: var(--fill-color);\n",
              "      border-top-color: var(--fill-color);\n",
              "    }\n",
              "    60% {\n",
              "      border-color: transparent;\n",
              "      border-right-color: var(--fill-color);\n",
              "    }\n",
              "    80% {\n",
              "      border-color: transparent;\n",
              "      border-right-color: var(--fill-color);\n",
              "      border-bottom-color: var(--fill-color);\n",
              "    }\n",
              "    90% {\n",
              "      border-color: transparent;\n",
              "      border-bottom-color: var(--fill-color);\n",
              "    }\n",
              "  }\n",
              "</style>\n",
              "\n",
              "  <script>\n",
              "    async function quickchart(key) {\n",
              "      const quickchartButtonEl =\n",
              "        document.querySelector('#' + key + ' button');\n",
              "      quickchartButtonEl.disabled = true;  // To prevent multiple clicks.\n",
              "      quickchartButtonEl.classList.add('colab-df-spinner');\n",
              "      try {\n",
              "        const charts = await google.colab.kernel.invokeFunction(\n",
              "            'suggestCharts', [key], {});\n",
              "      } catch (error) {\n",
              "        console.error('Error during call to suggestCharts:', error);\n",
              "      }\n",
              "      quickchartButtonEl.classList.remove('colab-df-spinner');\n",
              "      quickchartButtonEl.classList.add('colab-df-quickchart-complete');\n",
              "    }\n",
              "    (() => {\n",
              "      let quickchartButtonEl =\n",
              "        document.querySelector('#df-545f21df-7651-4997-b682-00c9d6b69fd1 button');\n",
              "      quickchartButtonEl.style.display =\n",
              "        google.colab.kernel.accessAllowed ? 'block' : 'none';\n",
              "    })();\n",
              "  </script>\n",
              "</div>\n",
              "    </div>\n",
              "  </div>\n"
            ]
          },
          "metadata": {},
          "execution_count": 5
        }
      ]
    },
    {
      "cell_type": "code",
      "execution_count": null,
      "metadata": {
        "id": "owVHMXqEYcAe"
      },
      "outputs": [],
      "source": [
        "#Lakukan One-Hot Encoder untuk data categorical, dengan fungsi pandas get_dummies\n",
        "\n",
        "#START CODE\n",
        "df = pd.get_dummies(df, columns=['Geography', 'Gender'])"
      ]
    },
    {
      "cell_type": "code",
      "execution_count": null,
      "metadata": {
        "id": "zMNWzfUbYcAf"
      },
      "outputs": [],
      "source": [
        "#Pisahkan mana X (feature) dengan Y,\n",
        "#Y adalah kolom \"Exited\"\n",
        "\n",
        "#START CODE\n",
        "# X = df[['Age', 'Tenure', 'Balance', 'NumOfProducts', 'HasCrCard', 'IsActiveMember', 'EstimatedSalary', 'Geography_France', 'Geography_Germany', 'Geography_Spain', 'Gender_Female', 'Gender_Male']]\n",
        "X = df.drop('Exited', axis=1)\n",
        "y = df['Exited']"
      ]
    },
    {
      "cell_type": "code",
      "execution_count": null,
      "metadata": {
        "id": "XWfdSiCxYcAg"
      },
      "outputs": [],
      "source": [
        "#Lakukan Scaler dan/atau Noermalisasi jika diperlukan\n",
        "from sklearn.preprocessing import MinMaxScaler\n",
        "\n",
        "#START CODE\n",
        "scaler = MinMaxScaler()\n",
        "X_transform = scaler.fit_transform(X)"
      ]
    },
    {
      "cell_type": "code",
      "execution_count": null,
      "metadata": {
        "id": "W5u5pH3uYcAg"
      },
      "outputs": [],
      "source": [
        "#Ini digunakan jika dilakukan scaler/Normalisas. Jika tidak, code ini bisa dilewat dan diganti dengan code yang ada di dalam komen\n",
        "X_transform = pd.DataFrame(X_transform, columns = X.columns)\n",
        "# X_transform = X.copy()"
      ]
    },
    {
      "cell_type": "markdown",
      "metadata": {
        "id": "4Pi0qKQAYcAh"
      },
      "source": [
        "## Train-Test Split"
      ]
    },
    {
      "cell_type": "code",
      "execution_count": null,
      "metadata": {
        "id": "0RDnybGDYcAh"
      },
      "outputs": [],
      "source": [
        "#Split menjadi train dan test dengan test_size 25%\n",
        "#Tidak perlu mengubah code ini\n",
        "\n",
        "from sklearn.model_selection import train_test_split\n",
        "X_train,X_test,y_train,y_test = train_test_split(X_transform,y,test_size = 0.25,random_state = 42)"
      ]
    },
    {
      "cell_type": "markdown",
      "metadata": {
        "id": "3hIL9sbPYcAh"
      },
      "source": [
        "# Modeling"
      ]
    },
    {
      "cell_type": "markdown",
      "metadata": {
        "id": "9PPYhjm3YcAi"
      },
      "source": [
        "## Model1"
      ]
    },
    {
      "cell_type": "markdown",
      "metadata": {
        "id": "Lt2iNWWTYcAj"
      },
      "source": [
        "### Soal :\n",
        "Jelaskan secara Singkat Model pertama yang digunakan!"
      ]
    },
    {
      "cell_type": "code",
      "execution_count": null,
      "metadata": {
        "id": "bnqFXuCyYcAk",
        "colab": {
          "base_uri": "https://localhost:8080/"
        },
        "outputId": "b0d210f4-6e66-44c2-9e69-9aa81b319cb6"
      },
      "outputs": [
        {
          "output_type": "execute_result",
          "data": {
            "text/plain": [
              "{'C': 10, 'penalty': 'l2', 'solver': 'lbfgs'}"
            ]
          },
          "metadata": {},
          "execution_count": 11
        }
      ],
      "source": [
        "#Pilih salah satu metode Machine Leaarning\n",
        "#Model Machine Learning dapat dipanggil terlebih dahulu melalui library yang digunakan. Gunakan library scikit learn seperti pada contoh\n",
        "\n",
        "#Contoh pemanggilan library dan penggunaannya dalam model\n",
        "\n",
        "#model1 = LogisticRegression()\n",
        "#params = { \"tol\": [0.1,0.01,0.001], 'C':[0.5,1.0,1.5,2.0]}\n",
        "\n",
        "from sklearn.linear_model import LogisticRegression\n",
        "\n",
        "#START CODE\n",
        "model1 = LogisticRegression()\n",
        "params = {\n",
        "    'C': [0.001, 0.01, 0.1, 1, 10],\n",
        "    'penalty': ['l2'],\n",
        "    'solver': ['lbfgs']\n",
        "}\n",
        "#END CODE\n",
        "\n",
        "#Lakukan parameter tuning sesuai hyperparameter yang dibutuhkan\n",
        "from sklearn.model_selection import GridSearchCV\n",
        "grid = GridSearchCV(\n",
        "             estimator= model1,\n",
        "             param_grid= params,\n",
        "             scoring = 'accuracy',\n",
        "             n_jobs = 10, # core cpu yang digunakan\n",
        "             cv = 10 # 3-fold cross validation (artinya kita melakukan iterasi model sebanyak 3 kali)\n",
        "            )\n",
        "\n",
        "grid.fit(X_train,y_train)\n",
        "grid.best_params_"
      ]
    },
    {
      "cell_type": "code",
      "execution_count": null,
      "metadata": {
        "id": "1f32JE8kYcAk",
        "colab": {
          "base_uri": "https://localhost:8080/"
        },
        "outputId": "5c3d9621-f31b-457d-a330-24d7dd7b5267"
      },
      "outputs": [
        {
          "output_type": "stream",
          "name": "stdout",
          "text": [
            "              precision    recall  f1-score   support\n",
            "\n",
            "           0       0.83      0.96      0.89      2003\n",
            "           1       0.55      0.20      0.29       497\n",
            "\n",
            "    accuracy                           0.81      2500\n",
            "   macro avg       0.69      0.58      0.59      2500\n",
            "weighted avg       0.77      0.81      0.77      2500\n",
            "\n",
            "\n",
            "[[1923   80]\n",
            " [ 398   99]]\n",
            "\n",
            "0.8088\n"
          ]
        }
      ],
      "source": [
        "#lakukan evaluasi dengan beberapa maetric di bawah ini\n",
        "from sklearn.metrics import classification_report\n",
        "from sklearn.metrics import accuracy_score\n",
        "from sklearn.metrics import confusion_matrix\n",
        "\n",
        "y_pred = grid.predict(X_test)\n",
        "\n",
        "print(classification_report(y_test,y_pred))\n",
        "print(\"\")\n",
        "print(confusion_matrix(y_test,y_pred))\n",
        "print(\"\")\n",
        "print(accuracy_score(y_test, y_pred))"
      ]
    },
    {
      "cell_type": "markdown",
      "metadata": {
        "id": "LXuooROd4rb8"
      },
      "source": [
        "## Model2\n",
        "### Soal :\n",
        "Jelaskan secara Singkat Model ke-2 yang digunakan!"
      ]
    },
    {
      "cell_type": "code",
      "execution_count": null,
      "metadata": {
        "id": "HfJRofJL4rb8",
        "colab": {
          "base_uri": "https://localhost:8080/"
        },
        "outputId": "591f18a3-8721-46ac-f392-35b65f226627"
      },
      "outputs": [
        {
          "output_type": "execute_result",
          "data": {
            "text/plain": [
              "{'max_depth': None,\n",
              " 'min_samples_leaf': 4,\n",
              " 'min_samples_split': 10,\n",
              " 'n_estimators': 200}"
            ]
          },
          "metadata": {},
          "execution_count": 13
        }
      ],
      "source": [
        "#Pilih salah satu metode Machine Leaarning\n",
        "#Model Machine Learning dapat dipanggil terlebih dahulu melalui library yang digunakan. Gunakan library scikit learn seperti pada contoh\n",
        "\n",
        "#Contoh pemanggilan library dan penggunaannya dalam model\n",
        "\n",
        "from sklearn.ensemble import RandomForestClassifier\n",
        "#model1 = LogisticRegression()\n",
        "#params = { \"tol\": [0.1,0.01,0.001], 'C':[0.5,1.0,1.5,2.0]}\n",
        "\n",
        "\n",
        "#START CODE\n",
        "model2 = RandomForestClassifier(random_state=42)\n",
        "params = {\n",
        "    'n_estimators': [50, 100, 200, 300, 500],\n",
        "    'max_depth': [None, 10, 20],\n",
        "    'min_samples_split': [2, 5, 10],\n",
        "    'min_samples_leaf': [1, 2, 4]\n",
        "}\n",
        "#END CODE\n",
        "\n",
        "#Lakukan parameter tuning sesuai hyperparameter yang dibutuhkan\n",
        "from sklearn.model_selection import GridSearchCV\n",
        "grid = GridSearchCV(\n",
        "             estimator= model2,\n",
        "             param_grid= params,\n",
        "             scoring = 'accuracy',\n",
        "             n_jobs = 10, # core cpu yang digunakan\n",
        "             cv = 10 # 3-fold cross validation (artinya kita melakukan iterasi model sebanyak 3 kali)\n",
        "            )\n",
        "\n",
        "grid.fit(X_train,y_train)\n",
        "grid.best_params_"
      ]
    },
    {
      "cell_type": "code",
      "execution_count": null,
      "metadata": {
        "id": "GOZ6oeyW4rb9",
        "colab": {
          "base_uri": "https://localhost:8080/"
        },
        "outputId": "109434ec-215e-4221-cfa6-e08a0fe33bd4"
      },
      "outputs": [
        {
          "output_type": "stream",
          "name": "stdout",
          "text": [
            "              precision    recall  f1-score   support\n",
            "\n",
            "           0       0.88      0.97      0.92      2003\n",
            "           1       0.78      0.46      0.58       497\n",
            "\n",
            "    accuracy                           0.87      2500\n",
            "   macro avg       0.83      0.72      0.75      2500\n",
            "weighted avg       0.86      0.87      0.85      2500\n",
            "\n",
            "\n",
            "[[1938   65]\n",
            " [ 266  231]]\n",
            "\n",
            "0.8676\n"
          ]
        }
      ],
      "source": [
        "#lakukan evaluasi\n",
        "from sklearn.metrics import classification_report\n",
        "from sklearn.metrics import accuracy_score\n",
        "from sklearn.metrics import confusion_matrix\n",
        "\n",
        "y_pred = grid.predict(X_test)\n",
        "\n",
        "print(classification_report(y_test,y_pred))\n",
        "print(\"\")\n",
        "print(confusion_matrix(y_test,y_pred))\n",
        "print(\"\")\n",
        "print(accuracy_score(y_test, y_pred))"
      ]
    },
    {
      "cell_type": "markdown",
      "metadata": {
        "id": "poj5B7fF4rb9"
      },
      "source": [
        "## Model3\n",
        "### Soal :\n",
        "Jelaskan secara Singkat Model ke-3 yang digunakan!"
      ]
    },
    {
      "cell_type": "code",
      "execution_count": null,
      "metadata": {
        "id": "O6riqEA74rb9",
        "colab": {
          "base_uri": "https://localhost:8080/"
        },
        "outputId": "8fbc7bee-8667-462b-8004-8c87caa66648"
      },
      "outputs": [
        {
          "output_type": "execute_result",
          "data": {
            "text/plain": [
              "{'learning_rate': 0.1,\n",
              " 'max_depth': 4,\n",
              " 'min_samples_leaf': 2,\n",
              " 'min_samples_split': 2,\n",
              " 'n_estimators': 100}"
            ]
          },
          "metadata": {},
          "execution_count": 23
        }
      ],
      "source": [
        "#Pilih salah satu metode Machine Leaarning\n",
        "#Model Machine Learning dapat dipanggil terlebih dahulu melalui library yang digunakan. Gunakan library scikit learn seperti pada contoh\n",
        "\n",
        "#Contoh pemanggilan library dan penggunaannya dalam model\n",
        "\n",
        "#from sklearn.linear_model import LogisticRegression\n",
        "#model1 = LogisticRegression()\n",
        "#params = { \"tol\": [0.1,0.01,0.001], 'C':[0.5,1.0,1.5,2.0]}\n",
        "# from sklearn.neighbors import KNeighborsClassifier\n",
        "from sklearn.ensemble import GradientBoostingClassifier\n",
        "\n",
        "#START CODE\n",
        "model3 = GradientBoostingClassifier(random_state=42)\n",
        "params = {\n",
        "    'n_estimators': [100, 200],\n",
        "    'learning_rate': [0.1, 0.2],\n",
        "    'max_depth': [3, 4],\n",
        "    'min_samples_split': [2, 5],\n",
        "    'min_samples_leaf': [1, 2]\n",
        "}\n",
        "#END CODE\n",
        "\n",
        "#Lakukan parameter tuning sesuai hyperparameter yang dibutuhkan\n",
        "from sklearn.model_selection import GridSearchCV\n",
        "grid = GridSearchCV(\n",
        "             estimator= model3,\n",
        "             param_grid= params,\n",
        "             scoring = 'accuracy',\n",
        "             n_jobs = 10, # core cpu yang digunakan\n",
        "             cv = 10 # 3-fold cross validation (artinya kita melakukan iterasi model sebanyak 3 kali)\n",
        "            )\n",
        "\n",
        "grid.fit(X_train,y_train)\n",
        "grid.best_params_"
      ]
    },
    {
      "cell_type": "code",
      "execution_count": null,
      "metadata": {
        "id": "4D60gsBj4rb9",
        "colab": {
          "base_uri": "https://localhost:8080/"
        },
        "outputId": "ee0967bc-5659-401b-e984-bb1abd2e8285"
      },
      "outputs": [
        {
          "output_type": "stream",
          "name": "stdout",
          "text": [
            "              precision    recall  f1-score   support\n",
            "\n",
            "           0       0.88      0.97      0.92      2003\n",
            "           1       0.78      0.49      0.60       497\n",
            "\n",
            "    accuracy                           0.87      2500\n",
            "   macro avg       0.83      0.73      0.76      2500\n",
            "weighted avg       0.86      0.87      0.86      2500\n",
            "\n",
            "\n",
            "[[1933   70]\n",
            " [ 255  242]]\n",
            "\n",
            "0.87\n"
          ]
        }
      ],
      "source": [
        "#lakukan evaluasi\n",
        "from sklearn.metrics import classification_report\n",
        "from sklearn.metrics import accuracy_score\n",
        "from sklearn.metrics import confusion_matrix\n",
        "\n",
        "y_pred = grid.predict(X_test)\n",
        "\n",
        "print(classification_report(y_test,y_pred))\n",
        "print(\"\")\n",
        "print(confusion_matrix(y_test,y_pred))\n",
        "print(\"\")\n",
        "print(accuracy_score(y_test, y_pred))"
      ]
    },
    {
      "cell_type": "markdown",
      "metadata": {
        "id": "Blfl1F2M4rb-"
      },
      "source": [
        "## Tarik Kesimpulan Model Mana yang terbaik beserta alasannya"
      ]
    },
    {
      "cell_type": "markdown",
      "source": [
        "Dari hasil proses tuning pada hyperparameter, didapat model dengan nilai accuracy terbaik adalah **Gradient Boosting Method**. Didapat bahwa nilai parameter berikut yang bisa digunakan dengan nilai **Accuracy** mencapai 0.8694 jika dibulatkan sebesar 87%.\n",
        "\n",
        "```\n",
        "{'learning_rate': 0.2,\n",
        " 'max_depth': 3,\n",
        " 'min_samples_leaf': 1,\n",
        " 'min_samples_split': 2,\n",
        " 'n_estimators': 100}\n",
        "```\n",
        "Kemudian model kedua terbaik dari hasil pengujian adalah **Random Forest**. Dengan nilai **Accuracy** yang sedikit lebih rendah yaitu 0.866, jika dibulatkan masih diangka 87%. Berikut ini parameter terbaik yang bisa digunakan.\n",
        "\n",
        "\n",
        "```\n",
        "{'max_depth': None,\n",
        " 'min_samples_leaf': 4,\n",
        " 'min_samples_split': 10,\n",
        " 'n_estimators': 200}\n",
        "```\n",
        "\n",
        "\n",
        "Dan model terakhir sekaligus dengan nilai **Accuracy** terendah yang saya gunakan adalah **Logistic Regression**. Hasil yang didapat adalah 0.8088 atau jika dibulatkan hanya 81%. Berikut ini parameter terbaik yang bisa digunakan.\n",
        "\n",
        "\n",
        "```\n",
        "{'C': 10, 'penalty': 'l2', 'solver': 'lbfgs'}\n",
        "```\n",
        "\n",
        "\n"
      ],
      "metadata": {
        "id": "pKkpkGrGOuAs"
      }
    }
  ],
  "metadata": {
    "colab": {
      "provenance": [],
      "include_colab_link": true
    },
    "kernelspec": {
      "display_name": "Python 3",
      "language": "python",
      "name": "python3"
    },
    "language_info": {
      "codemirror_mode": {
        "name": "ipython",
        "version": 3
      },
      "file_extension": ".py",
      "mimetype": "text/x-python",
      "name": "python",
      "nbconvert_exporter": "python",
      "pygments_lexer": "ipython3",
      "version": "3.8.8"
    },
    "toc-autonumbering": true,
    "toc-showcode": false,
    "toc-showmarkdowntxt": false
  },
  "nbformat": 4,
  "nbformat_minor": 0
}